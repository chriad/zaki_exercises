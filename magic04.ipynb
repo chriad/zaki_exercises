{
 "metadata": {
  "name": "",
  "signature": "sha256:7109859bd0c52ca5608aafef73895fa37702a5c55bb4f700c4b94df49fa342c8"
 },
 "nbformat": 3,
 "nbformat_minor": 0,
 "worksheets": [
  {
   "cells": [
    {
     "cell_type": "code",
     "collapsed": false,
     "input": [
      "import pandas as pd\n",
      "import numpy as np\n",
      "df = pd.read_csv('./NumericDataAnalysis.txt', header=None)\n",
      "df"
     ],
     "language": "python",
     "metadata": {},
     "outputs": [
      {
       "output_type": "stream",
       "stream": "stdout",
       "text": [
        "Overwriting ./data_loader.py\n"
       ]
      }
     ],
     "prompt_number": 2
    },
    {
     "cell_type": "code",
     "collapsed": false,
     "input": [
      "%pycat ./data_loader.py"
     ],
     "language": "python",
     "metadata": {},
     "outputs": [],
     "prompt_number": 17
    },
    {
     "cell_type": "code",
     "collapsed": false,
     "input": [
      "%load -s load_data data_loader.py"
     ],
     "language": "python",
     "metadata": {},
     "outputs": [],
     "prompt_number": 14
    },
    {
     "cell_type": "code",
     "collapsed": false,
     "input": [
      "def load_data():\n",
      "    df = pd.read_csv('./NumericDataAnalysis.txt', header=None)\n",
      "    return df"
     ],
     "language": "python",
     "metadata": {},
     "outputs": []
    },
    {
     "cell_type": "code",
     "collapsed": false,
     "input": [
      "%%writefile ./data_loader.py\n",
      "import pandas as pd\n",
      "import numpy as np\n",
      "def load_data():\n",
      "    df = pd.read_csv('./NumericDataAnalysis.txt', header=None)\n",
      "    return df"
     ],
     "language": "python",
     "metadata": {},
     "outputs": [
      {
       "output_type": "stream",
       "stream": "stdout",
       "text": [
        "Overwriting ./data_loader.py\n"
       ]
      }
     ],
     "prompt_number": 5
    },
    {
     "cell_type": "code",
     "collapsed": false,
     "input": [
      "from data_loader import load_data"
     ],
     "language": "python",
     "metadata": {},
     "outputs": [],
     "prompt_number": 6
    },
    {
     "cell_type": "code",
     "collapsed": false,
     "input": [
      "df = load_data()"
     ],
     "language": "python",
     "metadata": {},
     "outputs": [],
     "prompt_number": 7
    },
    {
     "cell_type": "code",
     "collapsed": false,
     "input": [
      "arr = df.values[:,0:-1] # remove last column"
     ],
     "language": "python",
     "metadata": {},
     "outputs": [],
     "prompt_number": 4
    },
    {
     "cell_type": "code",
     "collapsed": false,
     "input": [
      "n,d = shape(arr)"
     ],
     "language": "python",
     "metadata": {},
     "outputs": [],
     "prompt_number": 5
    },
    {
     "cell_type": "code",
     "collapsed": false,
     "input": [
      "n,d"
     ],
     "language": "python",
     "metadata": {},
     "outputs": [
      {
       "metadata": {},
       "output_type": "pyout",
       "prompt_number": 6,
       "text": [
        "(19020, 10)"
       ]
      }
     ],
     "prompt_number": 6
    },
    {
     "cell_type": "markdown",
     "metadata": {},
     "source": [
      "$$n \\times d = 19020 \\times 10$$"
     ]
    },
    {
     "cell_type": "code",
     "collapsed": false,
     "input": [
      "arr[0,:]"
     ],
     "language": "python",
     "metadata": {},
     "outputs": [
      {
       "metadata": {},
       "output_type": "pyout",
       "prompt_number": 7,
       "text": [
        "array([28.7967, 16.0021, 2.6449, 0.3918, 0.1982, 27.7004, 22.011, -8.2027,\n",
        "       40.092, 81.8828], dtype=object)"
       ]
      }
     ],
     "prompt_number": 7
    },
    {
     "cell_type": "heading",
     "level": 3,
     "metadata": {},
     "source": [
      "1. Compute the multivariate mean vector"
     ]
    },
    {
     "cell_type": "code",
     "collapsed": false,
     "input": [
      "m = mean(arr, axis=0)"
     ],
     "language": "python",
     "metadata": {},
     "outputs": [],
     "prompt_number": 8
    },
    {
     "cell_type": "code",
     "collapsed": false,
     "input": [
      "m.astype(float)"
     ],
     "language": "python",
     "metadata": {},
     "outputs": [
      {
       "metadata": {},
       "output_type": "pyout",
       "prompt_number": 9,
       "text": [
        "array([  53.25015393,   22.18096622,    2.82501696,    0.38032707,\n",
        "          0.21465713,   -4.33174516,   10.54554482,    0.24972596,\n",
        "         27.64570668,  193.81802647])"
       ]
      }
     ],
     "prompt_number": 9
    },
    {
     "cell_type": "markdown",
     "metadata": {},
     "source": [
      "$$\\usepackage{dsfont}\n",
      "\\mathds{R}$$"
     ]
    },
    {
     "cell_type": "code",
     "collapsed": false,
     "input": [
      "from IPython.display import Latex\n",
      "Latex(r\"\"\"\n",
      "\\usepackage{dsfont}\n",
      "\\mathds{R}\n",
      "\"\"\")"
     ],
     "language": "python",
     "metadata": {},
     "outputs": [
      {
       "latex": [
        "\n",
        "\\usepackage{dsfont}\n",
        "\\mathds{R}\n"
       ],
       "metadata": {},
       "output_type": "pyout",
       "prompt_number": 11,
       "text": [
        "<IPython.core.display.Latex at 0x7ff239dc9ed0>"
       ]
      }
     ],
     "prompt_number": 11
    },
    {
     "cell_type": "code",
     "collapsed": false,
     "input": [
      "len(m) # compute the column-wise mean"
     ],
     "language": "python",
     "metadata": {},
     "outputs": [
      {
       "metadata": {},
       "output_type": "pyout",
       "prompt_number": 10,
       "text": [
        "10"
       ]
      }
     ],
     "prompt_number": 10
    },
    {
     "cell_type": "code",
     "collapsed": false,
     "input": [
      "m"
     ],
     "language": "python",
     "metadata": {},
     "outputs": [
      {
       "metadata": {},
       "output_type": "pyout",
       "prompt_number": 11,
       "text": [
        "array([53.25015392744498, 22.180966219768596, 2.8250169610935822,\n",
        "       0.38032707150367767, 0.21465713459516267, -4.331745157728707,\n",
        "       10.545544815983238, 0.2497259568874858, 27.645706677181977,\n",
        "       193.81802646687703], dtype=object)"
       ]
      }
     ],
     "prompt_number": 11
    },
    {
     "cell_type": "heading",
     "level": 2,
     "metadata": {},
     "source": [
      "2. Compute the sample covariance matrix as inner products between the columns of the centered data matrix (see Eq. (2.30) in chapter 2)."
     ]
    },
    {
     "cell_type": "heading",
     "level": 3,
     "metadata": {},
     "source": [
      "Compute the centered data matrix"
     ]
    },
    {
     "cell_type": "markdown",
     "metadata": {},
     "source": [
      "Compute the multivariate mean vector\n",
      "* Two ways of computing the mean\n",
      "* row-wise\n",
      "* column-wise"
     ]
    },
    {
     "cell_type": "code",
     "collapsed": false,
     "input": [
      "mean_matrix = ones((n,1))*m"
     ],
     "language": "python",
     "metadata": {},
     "outputs": [],
     "prompt_number": 12
    },
    {
     "cell_type": "code",
     "collapsed": false,
     "input": [
      "centered_matrix = arr - mean_matrix"
     ],
     "language": "python",
     "metadata": {},
     "outputs": [],
     "prompt_number": 13
    },
    {
     "cell_type": "markdown",
     "metadata": {},
     "source": [
      "Inner product"
     ]
    },
    {
     "cell_type": "code",
     "collapsed": false,
     "input": [
      "shape(dot(centered_matrix.transpose(), centered_matrix))"
     ],
     "language": "python",
     "metadata": {},
     "outputs": [
      {
       "metadata": {},
       "output_type": "pyout",
       "prompt_number": 14,
       "text": [
        "(10, 10)"
       ]
      }
     ],
     "prompt_number": 14
    },
    {
     "cell_type": "code",
     "collapsed": false,
     "input": [
      "sample_cov_matrix_inner_prod = (1.0/n)*dot(centered_matrix.transpose(), centered_matrix)"
     ],
     "language": "python",
     "metadata": {},
     "outputs": [],
     "prompt_number": 15
    },
    {
     "cell_type": "code",
     "collapsed": true,
     "input": [
      "sample_cov_matrix_inner_prod"
     ],
     "language": "python",
     "metadata": {},
     "outputs": [
      {
       "metadata": {},
       "output_type": "pyout",
       "prompt_number": 48,
       "text": [
        "array([[1794.6865714995756, 598.83205617475, 14.06348988329148,\n",
        "        -4.886737831342653, -2.8002330683702925, -924.3854997097313,\n",
        "        -258.7135517382407, 11.813386617108616, -9.706307263223081,\n",
        "        1324.7944745035556],\n",
        "       [598.83205617475, 336.5600856115961, 6.220774673539292,\n",
        "        -2.0450293268557593, -1.1781644639080509, -289.9571002130384,\n",
        "        -164.885064435074, 15.185288441983532, 31.63503049690377,\n",
        "        461.7619214060047],\n",
        "       [14.06348988329148, 6.220774673539292, 0.22333773986794803,\n",
        "        -0.07350721460111825, -0.04224101079503783, -4.472842968199893,\n",
        "        2.2934139534606954, 0.1521133389077971, -2.30280375956013,\n",
        "        15.434655772960589],\n",
        "       [-4.886737831342653, -2.0450293268557593, -0.07350721460111825,\n",
        "        0.03341888966513585, 0.019725242519526655, 1.215131001881267,\n",
        "        -1.1364677533841143, -0.043000239989758125, 1.1226784856446914,\n",
        "        -4.485424694714395],\n",
        "       [-2.8002330683702925, -1.1781644639080509, -0.04224101079503783,\n",
        "        0.019725242519526655, 0.01221199457948649, 0.6552982287430573,\n",
        "        -0.6693539515626499, -0.025237727723309563, 0.6628723256768606,\n",
        "        -2.5156622619290903],\n",
        "       [-924.3854997097313, -289.9571002130384, -4.472842968199893,\n",
        "        1.215131001881267, 0.6552982287430573, 3505.173477221857,\n",
        "        827.4392409168258, 3.1477653582525384, -86.06182471751194,\n",
        "        -914.642630570306],\n",
        "       [-258.7135517382407, -164.885064435074, 2.2934139534606954,\n",
        "        -1.1364677533841143, -0.6693539515626499, 827.4392409168258,\n",
        "        2600.8752860087698, -18.265400212603883, -247.97204187461918,\n",
        "        141.10773590484303],\n",
        "       [11.813386617108616, 15.185288441983532, 0.1521133389077971,\n",
        "        -0.043000239989758125, -0.025237727723309563, 3.1477653582525384,\n",
        "        -18.265400212603883, 433.75940646470826, 2.5329010643235232,\n",
        "        17.784262807152214],\n",
        "       [-9.706307263223081, 31.63503049690377, -2.30280375956013,\n",
        "        1.1226784856446914, 0.6628723256768606, -86.06182471751194,\n",
        "        -247.97204187461918, 2.5329010643235232, 681.3631783542749,\n",
        "        -430.2306258145109],\n",
        "       [1324.7944745035556, 461.7619214060047, 15.434655772960589,\n",
        "        -4.485424694714395, -2.5156622619290903, -914.642630570306,\n",
        "        141.10773590484303, 17.784262807152214, -430.2306258145109,\n",
        "        5584.54635284141]], dtype=object)"
       ]
      }
     ],
     "prompt_number": 48
    },
    {
     "cell_type": "code",
     "collapsed": true,
     "input": [
      "shape(sample_cov_matrix_inner_prod)"
     ],
     "language": "python",
     "metadata": {},
     "outputs": [
      {
       "metadata": {},
       "output_type": "pyout",
       "prompt_number": 39,
       "text": [
        "(10, 10)"
       ]
      }
     ],
     "prompt_number": 39
    },
    {
     "cell_type": "markdown",
     "metadata": {},
     "source": [
      "Outer product"
     ]
    },
    {
     "cell_type": "code",
     "collapsed": false,
     "input": [
      "cov = 0\n",
      "for i in range(n):\n",
      "    cov += dot(arr[i,:].reshape((10,1)),arr[i,:].reshape((1,10)))\n",
      "    \n",
      "cov = ((1.0)/n)*cov"
     ],
     "language": "python",
     "metadata": {},
     "outputs": [],
     "prompt_number": 16
    },
    {
     "cell_type": "code",
     "collapsed": false,
     "input": [
      "shape(cov)"
     ],
     "language": "python",
     "metadata": {},
     "outputs": [
      {
       "metadata": {},
       "output_type": "pyout",
       "prompt_number": 17,
       "text": [
        "(10, 10)"
       ]
      }
     ],
     "prompt_number": 17
    },
    {
     "cell_type": "code",
     "collapsed": true,
     "input": [
      "cov"
     ],
     "language": "python",
     "metadata": {},
     "outputs": [
      {
       "metadata": {},
       "output_type": "pyout",
       "prompt_number": 18,
       "text": [
        "array([[4630.265464796168, 1779.971921636886, 164.49607790916608,\n",
        "        15.365737269002697, 8.630292390446378, -1155.0515961332464,\n",
        "        302.83833296162686, 25.111332261045742, 1462.4318287297049,\n",
        "        11645.634217778354],\n",
        "       [1779.971921636886, 828.5553480541153, 68.88238045782951,\n",
        "        6.390992598630928, 3.583138187379599, -386.03939322926374,\n",
        "        69.02530889730764, 20.724451455904337, 644.8435164251092,\n",
        "        4760.833019250046],\n",
        "       [164.49607790916608, 68.88238045782951, 8.204058570334393,\n",
        "        1.00092321315983, 0.5641690352560425, -16.710096509918476,\n",
        "        32.08475692258564, 0.8575934027402738, 75.79678650489713,\n",
        "        562.9738679075721],\n",
        "       [15.365737269002697, 6.390992598630928, 1.00092321315983,\n",
        "        0.1780675709837012, 0.10136516189747635, -0.4323489484579375,\n",
        "        2.874288423889593, 0.05197730187171391, 11.637089145827034,\n",
        "        69.22881771605532],\n",
        "       [8.630292390446378, 3.583138187379599, 0.5641690352560425,\n",
        "        0.10136516189747635, 0.05828968001209269, -0.2745417746114617,\n",
        "        1.5943224813811725, 0.028367730616193628, 6.5972205048590995,\n",
        "        39.08875993234042],\n",
        "       [-1155.0515961332464, -386.03939322926374, -16.710096509918476,\n",
        "        -0.4323489484579375, -0.2745417746114617, 3523.937493333365,\n",
        "        781.758628224577, 2.066016153746013, -205.8159807483832,\n",
        "        -1754.2129281987386],\n",
        "       [302.83833296162686, 69.02530889730764, 32.08475692258564,\n",
        "        2.874288423889593, 1.5943224813811725, 781.758628224577,\n",
        "        2712.0838014746755, -15.631903942532645, 43.56699685912965,\n",
        "        2185.0244201567134],\n",
        "       [25.111332261045742, 20.724451455904337, 0.8575934027402738,\n",
        "        0.05197730187171391, 0.028367730616193628, 2.066016153746013,\n",
        "        -15.631903942532645, 433.821769518252, 9.436751618113538,\n",
        "        66.1856549286373],\n",
        "       [1462.4318287297049, 644.8435164251092, 75.79678650489713,\n",
        "        11.637089145827034, 6.5972205048590995, -205.8159807483832,\n",
        "        43.56699685912965, 9.436751618113538, 1445.648276035059,\n",
        "        4928.005682639046],\n",
        "       [11645.634217778354, 4760.833019250046, 562.9738679075721,\n",
        "        69.22881771605532, 39.08875993234042, -1754.2129281987386,\n",
        "        2185.0244201567134, 66.1856549286373, 4928.005682639046,\n",
        "        43149.973736356835]], dtype=object)"
       ]
      }
     ],
     "prompt_number": 18
    },
    {
     "cell_type": "heading",
     "level": 3,
     "metadata": {},
     "source": [
      "4. Compute the correlation between Attributes 1 and 2 by computing the cosine of the angle between the centered attribute vectors. Plot the scatter plot between these two attributes."
     ]
    },
    {
     "cell_type": "code",
     "collapsed": false,
     "input": [
      "attribute_1 = centered_matrix[:,0].reshape(n,1)\n",
      "attribute_2 = centered_matrix[:,1].reshape(n,1)"
     ],
     "language": "python",
     "metadata": {},
     "outputs": [],
     "prompt_number": 24
    },
    {
     "cell_type": "code",
     "collapsed": false,
     "input": [
      "cos_phi = dot(attribute_1.transpose()/norm(attribute_1),attribute_2/norm(attribute_2))\n",
      "shape(attribute_1)"
     ],
     "language": "python",
     "metadata": {},
     "outputs": [],
     "prompt_number": 30
    },
    {
     "cell_type": "code",
     "collapsed": false,
     "input": [
      "cos_phi"
     ],
     "language": "python",
     "metadata": {},
     "outputs": [
      {
       "metadata": {},
       "output_type": "pyout",
       "prompt_number": 33,
       "text": [
        "array([[0.7705120396837163]], dtype=object)"
       ]
      }
     ],
     "prompt_number": 33
    },
    {
     "cell_type": "code",
     "collapsed": false,
     "input": [
      "np.arccos(cos_phi.flatten().astype('float'))"
     ],
     "language": "python",
     "metadata": {},
     "outputs": [
      {
       "metadata": {},
       "output_type": "pyout",
       "prompt_number": 34,
       "text": [
        "array([ 0.69115227])"
       ]
      }
     ],
     "prompt_number": 34
    },
    {
     "cell_type": "heading",
     "level": 3,
     "metadata": {},
     "source": [
      "5. Assuming that Attribute 1 is normally distributed, plot its probability density function."
     ]
    },
    {
     "cell_type": "code",
     "collapsed": false,
     "input": [
      "shape(attribute_1)"
     ],
     "language": "python",
     "metadata": {},
     "outputs": [
      {
       "metadata": {},
       "output_type": "pyout",
       "prompt_number": 9,
       "text": [
        "(19020,)"
       ]
      }
     ],
     "prompt_number": 9
    },
    {
     "cell_type": "code",
     "collapsed": false,
     "input": [
      "the_mean = mean(attribute_1)"
     ],
     "language": "python",
     "metadata": {},
     "outputs": [],
     "prompt_number": 10
    },
    {
     "cell_type": "code",
     "collapsed": false,
     "input": [
      "std(attribute_1)"
     ],
     "language": "python",
     "metadata": {},
     "outputs": [
      {
       "metadata": {},
       "output_type": "pyout",
       "prompt_number": 11,
       "text": [
        "42.363741235867913"
       ]
      }
     ],
     "prompt_number": 11
    },
    {
     "cell_type": "code",
     "collapsed": false,
     "input": [
      "min(attribute_1)"
     ],
     "language": "python",
     "metadata": {},
     "outputs": [
      {
       "metadata": {},
       "output_type": "pyout",
       "prompt_number": 12,
       "text": [
        "4.2835"
       ]
      }
     ],
     "prompt_number": 12
    },
    {
     "cell_type": "code",
     "collapsed": false,
     "input": [
      "max(attribute_1)"
     ],
     "language": "python",
     "metadata": {},
     "outputs": [
      {
       "metadata": {},
       "output_type": "pyout",
       "prompt_number": 13,
       "text": [
        "334.17699999999996"
       ]
      }
     ],
     "prompt_number": 13
    },
    {
     "cell_type": "code",
     "collapsed": false,
     "input": [
      "from scipy.stats import norm"
     ],
     "language": "python",
     "metadata": {},
     "outputs": [],
     "prompt_number": 14
    },
    {
     "cell_type": "code",
     "collapsed": false,
     "input": [
      "x=linspace(-100+the_mean,100+the_mean,400)"
     ],
     "language": "python",
     "metadata": {},
     "outputs": [],
     "prompt_number": 15
    },
    {
     "cell_type": "code",
     "collapsed": false,
     "input": [
      "plot(x,norm.pdf(x,loc=mean(attribute_1), scale=std(attribute_1)))"
     ],
     "language": "python",
     "metadata": {},
     "outputs": [
      {
       "metadata": {},
       "output_type": "pyout",
       "prompt_number": 16,
       "text": [
        "[<matplotlib.lines.Line2D at 0x7fa47cb86f50>]"
       ]
      },
      {
       "metadata": {},
       "output_type": "display_data",
       "png": "[encoded data removed]",
       "text": [
        "<matplotlib.figure.Figure at 0x7fa4915c0d90>"
       ]
      }
     ],
     "prompt_number": 16
    },
    {
     "cell_type": "heading",
     "level": 3,
     "metadata": {},
     "source": [
      "6. Which attribute has the largest variance, and which attribute has the smallest variance? Print these values."
     ]
    },
    {
     "cell_type": "code",
     "collapsed": false,
     "input": [
      "attribute_variances = var(arr, axis=0)"
     ],
     "language": "python",
     "metadata": {},
     "outputs": [],
     "prompt_number": 46
    },
    {
     "cell_type": "code",
     "collapsed": false,
     "input": [
      "shape(attribute_variances)"
     ],
     "language": "python",
     "metadata": {},
     "outputs": [
      {
       "metadata": {},
       "output_type": "pyout",
       "prompt_number": 47,
       "text": [
        "(10,)"
       ]
      }
     ],
     "prompt_number": 47
    },
    {
     "cell_type": "code",
     "collapsed": false,
     "input": [
      "attribute_variances"
     ],
     "language": "python",
     "metadata": {},
     "outputs": [
      {
       "metadata": {},
       "output_type": "pyout",
       "prompt_number": 49,
       "text": [
        "array([1794.6865714995756, 336.56008561159615, 0.22333773986794803,\n",
        "       0.03341888966513585, 0.01221199457948649, 3505.173477221857,\n",
        "       2600.8752860087698, 433.75940646470826, 681.363178354275,\n",
        "       5584.54635284141], dtype=object)"
       ]
      }
     ],
     "prompt_number": 49
    },
    {
     "cell_type": "code",
     "collapsed": false,
     "input": [
      "argmax(attribute_variances) # The 10th attribute has the highest variance"
     ],
     "language": "python",
     "metadata": {},
     "outputs": [
      {
       "metadata": {},
       "output_type": "pyout",
       "prompt_number": 48,
       "text": [
        "9"
       ]
      }
     ],
     "prompt_number": 48
    },
    {
     "cell_type": "code",
     "collapsed": false,
     "input": [
      "argmin(attribute_variances) # The 5th has the smallest variance"
     ],
     "language": "python",
     "metadata": {},
     "outputs": [
      {
       "metadata": {},
       "output_type": "pyout",
       "prompt_number": 51,
       "text": [
        "4"
       ]
      }
     ],
     "prompt_number": 51
    },
    {
     "cell_type": "heading",
     "level": 3,
     "metadata": {},
     "source": [
      "6. Which pair of attributes has the largest covariance, and which pair of attributes has the smallest covariance? Print these values."
     ]
    },
    {
     "cell_type": "code",
     "collapsed": false,
     "input": [
      "# We are looking for the samllest and biggest value in the covariance matrix"
     ],
     "language": "python",
     "metadata": {},
     "outputs": [],
     "prompt_number": 52
    },
    {
     "cell_type": "code",
     "collapsed": false,
     "input": [
      "cov."
     ],
     "language": "python",
     "metadata": {},
     "outputs": [
      {
       "metadata": {},
       "output_type": "pyout",
       "prompt_number": 60,
       "text": [
        "dtype('O')"
       ]
      }
     ],
     "prompt_number": 60
    },
    {
     "cell_type": "code",
     "collapsed": false,
     "input": [
      "import pylab as pl\n",
      "data = cov.astype('float') # 25x25 matrix of values\n",
      "pl.pcolor(data)\n",
      "pl.colorbar()\n",
      "pl.plot([5.5, 9.5],[9.5,9.5],'wo')\n",
      "pl.show()"
     ],
     "language": "python",
     "metadata": {},
     "outputs": [
      {
       "metadata": {},
       "output_type": "display_data",
       "png": "[encoded data removed]",
       "text": [
        "<matplotlib.figure.Figure at 0x7f5b6be5d890>"
       ]
      }
     ],
     "prompt_number": 101
    },
    {
     "cell_type": "code",
     "collapsed": false,
     "input": [
      "pl.pcolor?"
     ],
     "language": "python",
     "metadata": {},
     "outputs": [],
     "prompt_number": 82
    },
    {
     "cell_type": "code",
     "collapsed": false,
     "input": [
      "X = np.array([[0,0],[1,1]])"
     ],
     "language": "python",
     "metadata": {},
     "outputs": [],
     "prompt_number": 83
    },
    {
     "cell_type": "code",
     "collapsed": false,
     "input": [
      "Y = X.transpose()"
     ],
     "language": "python",
     "metadata": {},
     "outputs": [],
     "prompt_number": 85
    },
    {
     "cell_type": "code",
     "collapsed": false,
     "input": [
      "shape(X)"
     ],
     "language": "python",
     "metadata": {},
     "outputs": [
      {
       "metadata": {},
       "output_type": "pyout",
       "prompt_number": 90,
       "text": [
        "(2, 2)"
       ]
      }
     ],
     "prompt_number": 90
    },
    {
     "cell_type": "code",
     "collapsed": false,
     "input": [
      "shape(array([[1]]))"
     ],
     "language": "python",
     "metadata": {},
     "outputs": [
      {
       "metadata": {},
       "output_type": "pyout",
       "prompt_number": 97,
       "text": [
        "(1, 1)"
       ]
      }
     ],
     "prompt_number": 97
    },
    {
     "cell_type": "code",
     "collapsed": false,
     "input": [
      "data = np.array([[1]]) # 25x25 matrix of values\n",
      "pl.pcolor(Y,X,data)\n",
      "pl.colorbar()\n",
      "pl.show()"
     ],
     "language": "python",
     "metadata": {},
     "outputs": [
      {
       "metadata": {},
       "output_type": "display_data",
       "png": "[encoded data removed]",
       "text": [
        "<matplotlib.figure.Figure at 0x7f5b78d33290>"
       ]
      }
     ],
     "prompt_number": 98
    },
    {
     "cell_type": "code",
     "collapsed": false,
     "input": [
      "m1 = cov.max(axis=1) # The maximum value of every column"
     ],
     "language": "python",
     "metadata": {},
     "outputs": [],
     "prompt_number": 71
    },
    {
     "cell_type": "code",
     "collapsed": false,
     "input": [
      "max(m1)"
     ],
     "language": "python",
     "metadata": {},
     "outputs": [
      {
       "metadata": {},
       "output_type": "pyout",
       "prompt_number": 75,
       "text": [
        "43149.973736356835"
       ]
      }
     ],
     "prompt_number": 75
    },
    {
     "cell_type": "code",
     "collapsed": false,
     "input": [
      "argmax(m1) # The maximum value is in the 9th column"
     ],
     "language": "python",
     "metadata": {},
     "outputs": [
      {
       "metadata": {},
       "output_type": "pyout",
       "prompt_number": 72,
       "text": [
        "9"
       ]
      }
     ],
     "prompt_number": 72
    },
    {
     "cell_type": "code",
     "collapsed": false,
     "input": [
      "argmax(cov[:,9]) # and in the 9th row"
     ],
     "language": "python",
     "metadata": {},
     "outputs": [
      {
       "metadata": {},
       "output_type": "pyout",
       "prompt_number": 76,
       "text": [
        "9"
       ]
      }
     ],
     "prompt_number": 76
    },
    {
     "cell_type": "code",
     "collapsed": false,
     "input": [
      "m2 = cov.min(axis=1)"
     ],
     "language": "python",
     "metadata": {},
     "outputs": [],
     "prompt_number": 77
    },
    {
     "cell_type": "code",
     "collapsed": false,
     "input": [
      "argmin(m2)"
     ],
     "language": "python",
     "metadata": {},
     "outputs": [
      {
       "metadata": {},
       "output_type": "pyout",
       "prompt_number": 78,
       "text": [
        "5"
       ]
      }
     ],
     "prompt_number": 78
    },
    {
     "cell_type": "code",
     "collapsed": false,
     "input": [
      "argmin(cov[:,5])"
     ],
     "language": "python",
     "metadata": {},
     "outputs": [
      {
       "metadata": {},
       "output_type": "pyout",
       "prompt_number": 79,
       "text": [
        "9"
       ]
      }
     ],
     "prompt_number": 79
    },
    {
     "cell_type": "code",
     "collapsed": false,
     "input": [
      "# The minimum element is at [9,5]"
     ],
     "language": "python",
     "metadata": {},
     "outputs": []
    }
   ],
   "metadata": {}
  }
 ]
}